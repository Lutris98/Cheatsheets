{
 "cells": [
  {
   "cell_type": "markdown",
   "metadata": {
    "id": "rbGPZm7heSLv"
   },
   "source": [
    "1. EDA"
   ]
  },
  {
   "cell_type": "markdown",
   "metadata": {
    "id": "iXBY8pXfgQ_Q"
   },
   "source": [
    "■ Pandas(with Numpy) "
   ]
  },
  {
   "cell_type": "code",
   "execution_count": null,
   "metadata": {
    "id": "AnOAr-Bh8Icm"
   },
   "outputs": [],
   "source": [
    "import pandas as pd"
   ]
  },
  {
   "cell_type": "markdown",
   "metadata": {
    "id": "8WZtfP6DkqpW"
   },
   "source": [
    "• 불러오기"
   ]
  },
  {
   "cell_type": "code",
   "execution_count": null,
   "metadata": {
    "id": "JGnkKxAKkpZm"
   },
   "outputs": [],
   "source": [
    "titanic_df=pd.read_csv(’C:\\\\Users\\\\john\\\\titanic_train.csv’) #csv는 ,로 구별한 파일양식 \n",
    "from google.colab import drive\n",
    "drive.mount('content/gdrive')\n",
    "titanic_df=pd.read_csv('/content/gdrive/Mydrive/Dataset/titanic_train.csv')"
   ]
  },
  {
   "cell_type": "markdown",
   "metadata": {
    "id": "SJOqaVa4qOid"
   },
   "source": [
    "• 만들기"
   ]
  },
  {
   "cell_type": "code",
   "execution_count": null,
   "metadata": {
    "id": "2qdVh7rTiXIE"
   },
   "outputs": [],
   "source": [
    "df=pd.DataFrame(ndarray,columns=['col1','col2']) \n",
    "s=pd.Series(ndarray) #가끔 index불일치로 오류뜰때가 있다\n",
    "ndarray=df.values #ndarray가 필요한 작업들이 있다(특히 columns series를 for루프에 넣을 리스트로 만들때)"
   ]
  },
  {
   "cell_type": "markdown",
   "metadata": {
    "id": "D-mM510Jtd9K"
   },
   "source": [
    "• Numpy(list약간확장)"
   ]
  },
  {
   "cell_type": "code",
   "execution_count": null,
   "metadata": {
    "id": "pQ38WxS7tdVK"
   },
   "outputs": [],
   "source": [
    "ndarray=np.array([1,2,3]) #list랑 약간 다름 #np.arange(10), np.zeros((3,2))로 편하게 생성가능\n",
    "array2=array1.reshape(2,3) #차원변경 #-1넣으면 호환되는 값을 대신 대입 #없으면 comprehension으로 하면 됨"
   ]
  },
  {
   "cell_type": "code",
   "execution_count": null,
   "metadata": {
    "id": "fk6KThx5KViq"
   },
   "outputs": [],
   "source": [
    "sort_indices=np.argsort(score_array) \n",
    "print(name_array[sort_indices]) #메타데이터가 없는 ndarray에서 활용도 높음"
   ]
  },
  {
   "cell_type": "code",
   "execution_count": null,
   "metadata": {
    "id": "hUWhkDLrKSHI"
   },
   "outputs": [],
   "source": [
    "np.dot(A,B) \n",
    "np.transpose(A)"
   ]
  },
  {
   "cell_type": "markdown",
   "metadata": {
    "id": "oPCDm7_NeSXG"
   },
   "source": [
    "1-1. Basic statistics"
   ]
  },
  {
   "cell_type": "code",
   "execution_count": null,
   "metadata": {
    "id": "SYhIs7IXgLAQ"
   },
   "outputs": [],
   "source": [
    "titanic_df.head(3) #직접 보기\n",
    "titanic_df.info() #null개수파악, dtype보고 encoding계획 "
   ]
  },
  {
   "cell_type": "code",
   "execution_count": null,
   "metadata": {
    "id": "_zjC7Spqq13c"
   },
   "outputs": [],
   "source": [
    "titanic_df.drop(['Age','Sex'],axis=1,inplace=True) #axis와 inplace필수, 잠깐만 뺀다는 점에서 inplace=False도 유용"
   ]
  },
  {
   "cell_type": "markdown",
   "metadata": {
    "id": "dREjuq3YKeru"
   },
   "source": [
    "1-2. Basic feature engineering"
   ]
  },
  {
   "cell_type": "code",
   "execution_count": null,
   "metadata": {
    "id": "iP3tKKZOqxrb"
   },
   "outputs": [],
   "source": [
    "titanic_df['New_feature']=[1,2,3] #칼럼 추가\n",
    "titanic_df['Family']=titianic_df['SibSp']*10+titanic_df['Parch']\n",
    "titanic_df['Name_len']=titanic_df['Name'].apply(lambda x: 'adult' if x < 20 else 'not_adult') #len(titanic['Name])이 아니라 apply lambda"
   ]
  },
  {
   "cell_type": "markdown",
   "metadata": {
    "id": "ADdMtgn34EZV"
   },
   "source": [
    "• 불린 인덱싱"
   ]
  },
  {
   "cell_type": "code",
   "execution_count": null,
   "metadata": {
    "id": "PirHhQFKuBco"
   },
   "outputs": [],
   "source": [
    "titanic_boolean=titanic_df[(titanic_df['Age']>60)&(titanic_df['Sex']=='female')] #새로운 dataframe만들때\n",
    "df.loc[(df.Age>15)&(df.Age<=30), 'Age_band']=2 #새로운 feature만들때\n",
    "df.iloc[-251:-1,2:4] #이름을 직접적기 불편할때  "
   ]
  },
  {
   "cell_type": "markdown",
   "metadata": {
    "id": "6eIXTVPueShH"
   },
   "source": [
    "2. Preprocessing"
   ]
  },
  {
   "cell_type": "markdown",
   "metadata": {
    "id": "i5XqWUcjMzA-"
   },
   "source": [
    "가장 먼저 dtype먼저 분류<br>\n",
    "mixed는 미리 분리해 각각의 feature로 만들기 "
   ]
  },
  {
   "cell_type": "code",
   "execution_count": null,
   "metadata": {
    "id": "WjSeyYpNM23E"
   },
   "outputs": [],
   "source": [
    "discrete=[var for var in df.columns if df[var].dtype!='o' and var!='Survived' and df[var].nunique()<10] #categorical \n",
    "continuous=[var for var in df.columns if df[var].dtype!='o' and var!='Survived' and var not in discrete]\n",
    "categorical=[var for var in df.columns if df[var].dtype=='o'] #순서있으면 ordinal,없으면 nominal"
   ]
  },
  {
   "cell_type": "markdown",
   "metadata": {
    "id": "fdoN8z0Qag0y"
   },
   "source": [
    "2-0. Visualization\n",
    "sns는 dataframe에 맞춘 형태(feature명입력)<br>\n",
    "plt는 좌표입력"
   ]
  },
  {
   "cell_type": "code",
   "execution_count": null,
   "metadata": {
    "id": "MuFroDhZfbb3"
   },
   "outputs": [],
   "source": [
    "import matplotlib.pyplot as plt\n",
    "import seaborn as sns\n",
    "fig=plt.figure(figsize=(10,5)) #계속 똑같은 형태로 구현하기\n",
    "fig.add_subplot(311)\n",
    "sns.countplot(df,x='Pclass',ax=ax[0])\n",
    "sns.histplot(df,x='Age',ax=ax[0]) #displot안되니까 hist,kde로 나눌수 밖에\n",
    "sns.kdeplot(df,x='Age',ax=ax[0])\n",
    "sns.barplot(df,x='Cabin',y='Survived',ax=ax[0])\n",
    "plt.plot(df.index,y_test,color='red',label='real')\n",
    "plt.title('Real')\n",
    "plt.ylabel('Price')\n",
    "plt.yticks(range(50,100,10),rotation=60,fontsize='medium')\n",
    "plt.tightlayout() #간격조절은 항상 마지막\n",
    "plt.show()"
   ]
  },
  {
   "cell_type": "markdown",
   "metadata": {
    "id": "dXN4rlHWRBK5"
   },
   "source": [
    "2-1. Imputation\n",
    "모든 var의 문제/모든 model에 필수<br>\n",
    "- 5%보다 크면 not at random 가능성 커지니<br>\n",
    "numerical은 median+indicator추가(skewed일때 median이 최선)<br>\n",
    "categorical은 frequent+missing label<br>\n",
    "해서 원인 보정<br>\n",
    "- 작으면 median/frequent으로 끝냄<br>\n",
    "- 수집과정 분석이용 arbitrary imputation도 괜찮<br>\n",
    "cf)End of tail 방식은 보통 99,-99등으로 해두는 게 국룰<br>\n",
    "+KNNImputer나 IterativeImputer도 똑같이 활용가능(Multivariate)"
   ]
  },
  {
   "cell_type": "code",
   "execution_count": null,
   "metadata": {
    "id": "GHP1HP3gOwIq"
   },
   "outputs": [],
   "source": [
    "df.isnull.sum()"
   ]
  },
  {
   "cell_type": "code",
   "execution_count": null,
   "metadata": {
    "id": "Yun-nj9NPBNa"
   },
   "outputs": [],
   "source": [
    "from sklearn.impute import SimpleImputer #Sklearn패키지는 numpy반환해서 살짝 불편\n",
    "imputer=SimpleImputer(strategy='median') #strategy=most_frequent,strategy='constant',fil_value=-99\n",
    "df[columns]=imputer.fit_transform(df[columns]) \n",
    "from sklearn.impute import MissingIndicator\n",
    "indicator=MissingIndicator().fit_transform(df['Cabin_cat'].values.reshape(-1,1)) #only ndarray\n",
    "df['Cabin_ind']=pd.Series(indicator.reshape(-1)) #to 1dim"
   ]
  },
  {
   "cell_type": "code",
   "execution_count": null,
   "metadata": {
    "id": "lNE3UEDyPFL9"
   },
   "outputs": [],
   "source": [
    "from sklearn.impute import KNNImputer\n",
    "knn_imp=KNNImputer(n_neighbors=2)\n",
    "ndarray=df['Cabin'].values\n",
    "imputed=knn_imp.fit_transform(ndarray)\n",
    "imputed_df=pd.Series(imputed,index=df.index)"
   ]
  },
  {
   "cell_type": "markdown",
   "metadata": {
    "id": "bsKhdQ5-eSd_"
   },
   "source": [
    "2-2. Encoding\n",
    "category만의 문제/모든 model에 필수<br>\n",
    "category를 numerical로 바꿔주는 작업(기계적으로)<br>\n",
    "\n",
    "ordinal이면 LabelEncoder<br>\n",
    "nominal이면 \n",
    "- Onehotencoding of top categories(정보손실있지만 feature space 너무 커지는 거 방지)<br>\n",
    "- Frequency encoding(빈도까지 고려가능)\n",
    "- monotonic함 반영한 encoding(linear model들이 좋아함)<br>\n",
    "weight of evidence 활용한 방식도 있음(ln(good%/bad%))\n"
   ]
  },
  {
   "cell_type": "code",
   "execution_count": null,
   "metadata": {
    "id": "sO-8kUzsQyO1"
   },
   "outputs": [],
   "source": [
    "from sklearn.preprocessing import LabelEncoder\n",
    "le=LabelEncoder().fit_transform(df[ordinal])"
   ]
  },
  {
   "cell_type": "code",
   "execution_count": null,
   "metadata": {
    "id": "pQ7LlLNuQrWT"
   },
   "outputs": [],
   "source": [
    "top10=[x for x in df[var].value_counts.sort_values(ascending=False).head(10).index]\n",
    "pd.get_dummies(df,columns=top10)"
   ]
  },
  {
   "cell_type": "code",
   "execution_count": null,
   "metadata": {
    "id": "S1XM_aJ_Q1CT"
   },
   "outputs": [],
   "source": [
    "dic=df['Neighborhood'].value_counts().to_dict() #frequency같으면 같아진다는 단점\n",
    "df['Neighborhood']=df['Neighborhood'].map(dic)"
   ]
  },
  {
   "cell_type": "code",
   "execution_count": null,
   "metadata": {
    "id": "A0nBSIcPRZx1"
   },
   "outputs": [],
   "source": [
    "label=df.groupby(['Neighborhood'])['SalePrice'].mean().sort_values(ascending=False).index #groupby로 만들면 index애용하자\n",
    "ordinal_dict={k:i for i,k in enumerate(label)} #dict도 이렇게 가능\n",
    "df['Neighborhood_mono']=df['Neighborhood'].map(ordinal_dict)"
   ]
  },
  {
   "cell_type": "markdown",
   "metadata": {
    "id": "FrClhaqzeSm2"
   },
   "source": [
    "2-3. Discretization/Scaling"
   ]
  },
  {
   "cell_type": "markdown",
   "metadata": {
    "id": "earGfSHGRg_u"
   },
   "source": [
    "• Discretization<br>\n",
    "category만의 문제/Tree기반model들이 좋아함<br>\n",
    "Cardinality&Rare labels -> train,test중 하나에만 들어가서 overfitting<br>\n",
    "- Encoding까지 같이하거나<br>\n",
    "- Tree로 monotonic하게 만들거나(Linear model들만 좋아함)<br>\n",
    "- 직접 설정해주거나<br>"
   ]
  },
  {
   "cell_type": "code",
   "execution_count": null,
   "metadata": {
    "id": "tBWtYBAbPKDK"
   },
   "outputs": [],
   "source": [
    "df[categorical+mixed].nunique() #cardinality,rare labels조사"
   ]
  },
  {
   "cell_type": "code",
   "execution_count": null,
   "metadata": {
    "id": "JQBpc3YUPlDe"
   },
   "outputs": [],
   "source": [
    "from sklearn.preprocessing import KBinsDiscretizer #Encoding까지 같이함\n",
    "discretizer=KBinsDiscretizer(n_bins=6,encode='ordinal',strategy='quantile') #encode는 ordinal,onehot #strategy=uniform(width),quantile(sample,유일하게 spread 향상),kmeans "
   ]
  },
  {
   "cell_type": "code",
   "execution_count": null,
   "metadata": {
    "id": "uYmejmVNRv1t"
   },
   "outputs": [],
   "source": [
    "clf=DecisionTreeClassifier(max_depth=5) #feature하나와 target관계분석\n",
    "clf.fit(df['Neighborhood']).to_frame(),df['SalePrice'])\n",
    "df['Age_disc']=clf.predict_proba(df['Age'].to_frame())[:,1] #target확률\n",
    "disc=pd.concat([df.groupby('Age_disc')['Age'].min(),df.groupby('Age_disc')['Age'].max()],axis=1)"
   ]
  },
  {
   "cell_type": "code",
   "execution_count": null,
   "metadata": {
    "id": "NHdc4QGHRv4S"
   },
   "outputs": [],
   "source": [
    "df['Age_bins']=pd.cut(df['Age'],bins=[20,40]) #직접 설정해주기"
   ]
  },
  {
   "cell_type": "markdown",
   "metadata": {
    "id": "vWNsTaWNRoTl"
   },
   "source": [
    "• Scaling<br>\n",
    "numerical만의 문제/Tree기반model빼고 좋아함<br>\n",
    "target은 필수, 분포가 편향적인 것을 정규분포가깝게(feature끼리 scale 다르면 coef바뀜(feature importance 왜곡,속도문제)<br>\n",
    "Outlier 적으면 직접 평균값으로 바꿔주기도 함 "
   ]
  },
  {
   "cell_type": "code",
   "execution_count": null,
   "metadata": {
    "id": "M4sfZVaHKGpj"
   },
   "outputs": [],
   "source": [
    "titanic_df.describe() #눈으로 outlier확인가능\n",
    "sns.boxplot(data=df[discrete+continuous])"
   ]
  },
  {
   "cell_type": "code",
   "execution_count": null,
   "metadata": {
    "id": "whP2zGIPQW_V"
   },
   "outputs": [],
   "source": [
    "from sklearn.preprocessing import MinMaxScaler,StandardScaler\n",
    "scaled_df=MinMaxScaler().fit_transform(df)\n",
    "df['count']=np.log1p(df['count']) #마지막 pred값을 expm1로 돌려놓기"
   ]
  },
  {
   "cell_type": "code",
   "execution_count": null,
   "metadata": {
    "id": "Crn6PBvxRdjv"
   },
   "outputs": [],
   "source": [
    "quantile_75=df['windspeed'].quantile(0.75)\n",
    "iqr=quantile_75-quantile_25\n",
    "df['windspeed'].loc(df['windspeed']>quantile_75+iqr*1.5)=df['windspeed'].mean()"
   ]
  },
  {
   "cell_type": "markdown",
   "metadata": {
    "id": "4NTIu6eMPvEM"
   },
   "source": [
    "2-4. Feature selection\n"
   ]
  },
  {
   "cell_type": "markdown",
   "metadata": {
    "id": "VjUO77G4sVXr"
   },
   "source": [
    "• SelectKBest<br>\n",
    "target과 각 feature의 통계학적 연관성<br>\n",
    "- chi2:categorical feature(mutual_info_classif도 가능)<br>\n",
    "수학적으로 category값별 target값의 실제값,예측값 비교<br>\n",
    "- f_classif:numerical feature<br>\n",
    "수학적으로 target별 numerical값의 평균이 다름(ANOVA방식)"
   ]
  },
  {
   "cell_type": "code",
   "execution_count": null,
   "metadata": {
    "id": "B-XXUFpgsstj"
   },
   "outputs": [],
   "source": [
    "from sklearn.feature_selection import SelectKBest,chi2,mutual_info_classif,f_classif\n",
    "X=SelectKBest(chi2,k=2).fit_transform(X,y) #SelectPercentile(chi2,percentile=10)도 괜찮"
   ]
  },
  {
   "cell_type": "code",
   "execution_count": null,
   "metadata": {
    "id": "sXbwOxeuvNtX"
   },
   "outputs": [],
   "source": [
    "df.corr.where(np.triu(np.ones(df.corr)).astype(np.bool_),inplace=True) #upper corr로 만들기(True,1이면 남김) #triangular upper #bool means trueorfalse\n",
    "to_drop=[column for column in upper.columns if any(upper[column]>0.9)] #[return값 for문 똑같음 if조건문] #corr matrix를 column단위로 분석\n",
    "df.drop(to_drop,inplace=True)"
   ]
  },
  {
   "cell_type": "markdown",
   "metadata": {
    "id": "i14Zi_5YsZ4J"
   },
   "source": [
    "• SequentialFeatureSelector<br>\n",
    "-Recursive<br>\n",
    "-Forward/Backward<br>"
   ]
  },
  {
   "cell_type": "code",
   "execution_count": null,
   "metadata": {
    "id": "ecAjpD_zwBYQ"
   },
   "outputs": [],
   "source": [
    "from mlxtend.feature_selection import SequentialFeatureSelector as SFS\n",
    "sfs=SFS(RandomForestRegressor(),forward=False,scoring='neg_mean_squared_error',k_features=10,cv=3)"
   ]
  },
  {
   "cell_type": "markdown",
   "metadata": {
    "id": "CGO7bSFLspZP"
   },
   "source": [
    "• coef_/feature_importances_<br>"
   ]
  },
  {
   "cell_type": "code",
   "execution_count": null,
   "metadata": {
    "id": "-AscEIybwgAu"
   },
   "outputs": [],
   "source": [
    "sel=SelectFromModel(Lasso(alpha=100))\n",
    "sel.fit(X,y)\n",
    "X=X[sel.get_support()] #get_support는 객체반환(직접해봐야알듯)"
   ]
  },
  {
   "cell_type": "code",
   "execution_count": null,
   "metadata": {
    "id": "DGr-HO6ZwgFL"
   },
   "outputs": [],
   "source": [
    "importances=pd.Series(rf_clf.feature_importances_,index=X.columns) #자체로는 ndarray\n",
    "importances.sort_values()\n",
    "sns.barplot(x=importances,y=importances.index)"
   ]
  },
  {
   "cell_type": "markdown",
   "metadata": {
    "id": "4bkTBVIVN5Ch"
   },
   "source": [
    "• Dimension reduction(Too many features)<br>\n",
    "- PCA<br>\n",
    "공분산행렬(symmetric)을 EVD, 고유값 첫번째, 두번째큰 고유벡터로 분해<br>\n",
    "- Truncated SVD<br> \n",
    "PCA와 다르게 rectangular로 확장<br>\n",
    "∑최소로 diagonal하게 만들고 U,Vt도 맞춰주기<br>\n",
    "- LDA<br>\n",
    "클래스간 분산최대, 클래스내 분산최소\n"
   ]
  },
  {
   "cell_type": "code",
   "execution_count": null,
   "metadata": {
    "id": "M5H-L0CsnTtP"
   },
   "outputs": [],
   "source": [
    "from sklearn.decomposition import PCA, Truncated SVD \n",
    "from sklearn.dicriminant_analysis import LinearDiscriminantAnalysis\n",
    "pca=PCA(n_components=6)\n",
    "santander_pca=pca.fit_transform(santander_scaled) #보통 scale하고 적용 #ndarray반환\n",
    "pca_columns=['pca1','pca2','pca3','pca4','pca5','pca6']\n",
    "santander_df=pd.DataFrame(santander_pca,columns=pca_columns)"
   ]
  },
  {
   "cell_type": "markdown",
   "metadata": {
    "id": "QH2fSRiSeSpW"
   },
   "source": [
    "3. Modeling"
   ]
  },
  {
   "cell_type": "code",
   "execution_count": null,
   "metadata": {
    "id": "s_pCeimd8SR3"
   },
   "outputs": [],
   "source": [
    "from sklearn.model_selection import train_test_split,GridSearchCV, KFold, StratififedKFold #Stratified는 label분포가 치중되었을때(주로 분류)"
   ]
  },
  {
   "cell_type": "code",
   "execution_count": null,
   "metadata": {
    "id": "7pPiV3gLomg3"
   },
   "outputs": [],
   "source": [
    "X_train,X_test,y_train,y_test= train_test_split(titanic_feature,titanic_label,test_size=0.2,random_state=0) #X가 먼저 #재현을 위해 randomstate필수"
   ]
  },
  {
   "cell_type": "code",
   "execution_count": null,
   "metadata": {
    "id": "sJ_QIIPa9FfC"
   },
   "outputs": [],
   "source": [
    "kfold=KFold(n_splits=5,random_state=0) #5개의 kfold객체 생성 \n",
    "for train_index,test_index in kfold.split(titanic_feature,titanic_label): #각 인덱스를 ndarray로 반환 \n",
    "  X_train,X_test=titanic_feature[train_index], titanic_feature[test_index]\n",
    "  y_train,y_test=titanic_label[train_index], titanic_label[test_index]\n",
    "  lgbm_clf.fit(X_train,y_train)\n",
    "  cv_accuracy.append(accuracy_score(y_test,lgbm.predict(X_test)))\n",
    "  print('cv정확도:',cv_accuracy)\n",
    "print('\\n평균cv정확도:',np.mean(cv_accuracy))"
   ]
  },
  {
   "cell_type": "markdown",
   "metadata": {
    "id": "TQx7zY5OhJ4I"
   },
   "source": [
    "■ Tree기반"
   ]
  },
  {
   "cell_type": "code",
   "execution_count": null,
   "metadata": {
    "id": "H9jPAE84avbd"
   },
   "outputs": [],
   "source": [
    "from sklearn.ensemble import RandomForestClassifier\n",
    "from xgboost import XGBClassifier\n",
    "from lightgbm import LGBMClassifier\n",
    "from sklearn.linear_model import LogisticRegression"
   ]
  },
  {
   "cell_type": "markdown",
   "metadata": {
    "id": "VgWwmKpRCMVR"
   },
   "source": [
    "• RandomForest(Bagging)<br>\n",
    "병렬적으로 결정트리에 bootstrapping된 데이터 학습<br>\n",
    "DecisionTree기반 알고리즘은 회귀도 가능(exRandomForestRegressor)"
   ]
  },
  {
   "cell_type": "code",
   "execution_count": null,
   "metadata": {
    "id": "Kf2V3cxdbLgB"
   },
   "outputs": [],
   "source": [
    "rf_clf=RandomForestClassifier(random_state=0) #딕셔너리 방식으로 입력\n",
    "params={'n_estimators':[100] #100개의 tree에서 나온 확률값 평균\n",
    "        'max_depth':[6,8,10] #이하 3개는 결정트리것 그대로\n",
    "        'min_samples_leaf':[8,12] #samples수 너무 적을 때까지 않가도록(클수록 과적합방지)\n",
    "        'min_samples_split':[8,16] #split기준은 지니계수(한쪽이 우세한 정도라 직관적)\n",
    "        }\n",
    "rf_gridcv.fit=GridSearchCV(rf_clf,param_grid=params,cv=5)\n",
    "rf_gridcv.fit(X_train,y_train)"
   ]
  },
  {
   "cell_type": "markdown",
   "metadata": {
    "id": "U5Yc0JMRCxlT"
   },
   "source": [
    "• XGBoost(Boosting)<br> \n",
    "GBM대비 병렬학습가능해 빠르고 과적합규제/가지치기로 split재검토,내부적 교차검증,결손값처리,조기중단"
   ]
  },
  {
   "cell_type": "code",
   "execution_count": null,
   "metadata": {
    "id": "B1RhFPoDd_Ai"
   },
   "outputs": [],
   "source": [
    "xgb_clf=XGBClassifier(random_state=0)\n",
    "params={'learning_rate':[0.02],\n",
    "        'n_estimators':[1000,1500],\n",
    "        'max_depth':[3,5,7],\n",
    "        'colsample_bytree':[0.7,0.8],\n",
    "        'subsample':[0.9]}"
   ]
  },
  {
   "cell_type": "markdown",
   "metadata": {
    "id": "adMD-rJoDI4-"
   },
   "source": [
    "• LightGBM(Boosting)<br> \n",
    "XGBoost와 달리 leafwise 분할(시간,공간복잡도 개선, 성능비슷)"
   ]
  },
  {
   "cell_type": "code",
   "execution_count": null,
   "metadata": {
    "id": "lLd1KgA4emo-"
   },
   "outputs": [],
   "source": [
    "lgbm_clf=LGBMClassifier(random_state=0)\n",
    "params={'learning_rate':[0.02],\n",
    "        'n_estimators':[1000,1500],\n",
    "        'max_depth':[3,5,7], #leafwise니까 살짝 더 크게\n",
    "        'colsample_bytree':[0.7,0.8], \n",
    "        'subsample':[0.9]\n",
    "        }\n",
    "grid_cv.fit=GridSearchCV(lgbm_clf,param_grid=params,cv=5)\n",
    "grid_cv.fit(X_train,y_train,early_stopping_rounds=30,eval_metric='auc',eval_set=[(X_train,y_train),(X_test,y_test)] #향상되지 않고 반복할 수 있는 최대횟수 #eval_set은 보통 학습데이터셋말고 다른것 "
   ]
  },
  {
   "cell_type": "markdown",
   "metadata": {
    "id": "YV9OpWGBOD6e"
   },
   "source": [
    "■ 분류 "
   ]
  },
  {
   "cell_type": "markdown",
   "metadata": {
    "id": "ZBlkbrulEIIp"
   },
   "source": [
    "• LogisticRegression<br>\n",
    "sigmoid함수반환값을 확률로 간주<br>\n",
    "penalty로 규제유형(디폴트는 l2) / C로 alpha역수"
   ]
  },
  {
   "cell_type": "markdown",
   "metadata": {
    "id": "DHuKqjHTpP8Z"
   },
   "source": [
    "• SVC<br>\n",
    "feature space에서 가장 넓은 도로를 놓을 수 있는 선(large marginal classifictation)<br>\n",
    "도로안에 가장 많은 sample들어가게 하는 선으로 회귀도 가능(파라미터는 epsilon=1.5)<br>\n",
    "kernel trick방식은 속도가 좀 느림(유사도나 다항처리나)\n",
    "비교적 작은 데이터셋에 적합"
   ]
  },
  {
   "cell_type": "code",
   "execution_count": null,
   "metadata": {
    "id": "SDtvhw5kp9p5"
   },
   "outputs": [],
   "source": [
    "from sklearn.svm import LinearSVC,SVC\n",
    "svm_clf=LinearSVC(C=1,loss='hinge') #C는 violation, 낮을수록 설명력 향상"
   ]
  },
  {
   "cell_type": "code",
   "execution_count": null,
   "metadata": {
    "id": "ibTgbu7uqU8r"
   },
   "outputs": [],
   "source": [
    "svm_clf=SVC(kernel='rbf',C=0.001,gamma=5) #gamma는 높을수록 설명력 향상(각 landmark의 영향력) #landmark와의 유사도(RadialBasisFunction)"
   ]
  },
  {
   "cell_type": "markdown",
   "metadata": {
    "id": "RAr6wrvfN_yZ"
   },
   "source": [
    "• Metric<br>\n",
    "confusion matrix에서 FP와 FN줄이기"
   ]
  },
  {
   "cell_type": "code",
   "execution_count": null,
   "metadata": {
    "id": "5jAUmOaKbfDC"
   },
   "outputs": [],
   "source": [
    "from sklearn.metrics import recall_score,precision_score,f1_score,roc_auc_score\n",
    "def get_clf_eval(real,pred):\n",
    "  recall=recall_score(real,pred) #FP줄이고 싶음(암진단모델)\n",
    "  precision=precision_score(real,pred) #FN줄이고 싶음(스팸차단모델)\n",
    "  f1=f1_score(real,pred) #치우치지 않은 정도\n",
    "  auc=roc_auc_score(real,pred) #TPR-FPR그래프에서 TPR이 얼마나 큰지(1에 가까울수록 우수)\n",
    "  print('recall score:{0:.4f} / precision score:{1:.4f} / f1 score:{2:.4f} / f1 score:{3:.4f}'.format(recall,precision,f1,auc)) "
   ]
  },
  {
   "cell_type": "markdown",
   "metadata": {
    "id": "JVjebFXVg9Vg"
   },
   "source": [
    "■ 회귀"
   ]
  },
  {
   "cell_type": "markdown",
   "metadata": {
    "id": "LxPi-zahH01N"
   },
   "source": [
    "• PolynomialFeatures<br>\n",
    "주어진 변수로 파생변수추가해 설명력향상 but overfit 위험, 변수 너무 많아짐(커봤자 degree3)"
   ]
  },
  {
   "cell_type": "code",
   "execution_count": null,
   "metadata": {
    "id": "-JpUlQKdgXdN"
   },
   "outputs": [],
   "source": [
    "from sklearn.preprocessing import PolynomialFeatures\n",
    "feature_df=PolynomialFeatures(degree=3).fit_transform(feature_df) "
   ]
  },
  {
   "cell_type": "markdown",
   "metadata": {
    "id": "qUm7Nq90IPDf"
   },
   "source": [
    "• Regulation<br>"
   ]
  },
  {
   "cell_type": "code",
   "execution_count": null,
   "metadata": {
    "id": "Rv_6lChihFen"
   },
   "outputs": [],
   "source": [
    "from sklearn.linear_model import Ridge,Lasso,ElasticNet\n",
    "Ridge(alpha=0.1).fit(X_train,y_train) #커질수록 설명력 감소 #L2:계수크기규제(RSS+alpha*W2최소화)\n",
    "Lasso(alpha=0.1).fit(X_train,y_train) #L1:계수종류규제->feature selection기여(RSS+alpha*W최소화)\n",
    "ElasticNet(alpha=0.1,l1_ratio=0.7).fit(X_train,y_train) #alpha는 합 "
   ]
  },
  {
   "cell_type": "markdown",
   "metadata": {
    "id": "zUHG-CFwLYni"
   },
   "source": [
    "• Metric<br>\n",
    "MSE, R2"
   ]
  },
  {
   "cell_type": "code",
   "execution_count": null,
   "metadata": {
    "id": "neCSQvs0iVAv"
   },
   "outputs": [],
   "source": [
    "from sklearn.metrics import mean_squared_error,r2_score #MSE와 R2\n",
    "def get_clf_eval(real,pred):\n",
    "  mse=mean_squared_error(real,pred)\n",
    "  r2=r2_score(real,pred)\n",
    "  print('MSE:{0:.4f} / R2:{1:.4f}'.format(mse,r2)) "
   ]
  },
  {
   "cell_type": "markdown",
   "metadata": {
    "id": "vqKxuakGhI9A"
   },
   "source": [
    "■ 군집화"
   ]
  },
  {
   "cell_type": "markdown",
   "metadata": {
    "id": "uaakBQ1910Kq"
   },
   "source": [
    "• Aggregation<br>\n",
    "groupby객체는 새index 기준 group한 것(1~2개)<br>\n",
    "특정 feature를 aggregate해서 보여주거나<br>\n",
    "여러 feature해서 새 dataframe만들거나<br>"
   ]
  },
  {
   "cell_type": "code",
   "execution_count": null,
   "metadata": {
    "id": "HAq4Ztr43K7o"
   },
   "outputs": [],
   "source": [
    "cust_df.groupby(['target','cluster']).size()  # target과 cluster 관계분석\n",
    "iris_df.groupby(['CustomerID']).agg({'InvoiceDate':'max','InvoiceNo':'count','sale_amount':'sum'})"
   ]
  },
  {
   "cell_type": "markdown",
   "metadata": {
    "id": "830n2rodLwqJ"
   },
   "source": [
    "• KMeans<br>\n",
    "centroid별 평균중심으로 업데이트"
   ]
  },
  {
   "cell_type": "code",
   "execution_count": null,
   "metadata": {
    "id": "COqDuZHhkDhe"
   },
   "outputs": [],
   "source": [
    "from sklearn.cluster import KMeans\n",
    "kmeans_cls=KMeans(n_clusters=3,max_iter=300)\n",
    "label=kmeans_cls.fit_predict(test_df)\n",
    "iris_df['cluster']=pd.Series(label,index=iris_df.index) #index설정안해서 한시간 버림\n",
    "iris_df.groupby(['target','cluster'])['slength'].count #꼭 두개씩 group해야 의미있음,count써야함(groupby객체반환) "
   ]
  },
  {
   "cell_type": "markdown",
   "metadata": {
    "id": "2jESWZ5gL5-Z"
   },
   "source": [
    "• MeansShift<br>\n",
    "centroid별 밀도중심으로 업데이트(KernelDensityFunction)"
   ]
  },
  {
   "cell_type": "code",
   "execution_count": null,
   "metadata": {
    "id": "6bEAaVxIl8VU"
   },
   "outputs": [],
   "source": [
    "from sklearn.cluster import MeanShift, estimate_bandwidth\n",
    "meanshift_cls=MeanShift(bandwidth=estimate_bandwidth) #최적의 bandwidth값 return(작아야 설명력 향상)"
   ]
  },
  {
   "cell_type": "markdown",
   "metadata": {
    "id": "6huztqVjMAFB"
   },
   "source": [
    "• DBSCAN<br>"
   ]
  },
  {
   "cell_type": "code",
   "execution_count": null,
   "metadata": {
    "id": "f-iG0gQ8mees"
   },
   "outputs": [],
   "source": [
    "from sklearn.cluster import DBSCAN #min_samples 넘는 corepoint끼리 연결/적으면 borderpoint거나 noise\n",
    "dbscan=DBSCAN(eps=0.6,min_samples=8,metric='euclidean') #eps클수록 border많아짐/min_samples클수록 core적어짐"
   ]
  },
  {
   "cell_type": "markdown",
   "metadata": {
    "id": "pSnoA2P84s4h"
   },
   "source": [
    "• 시각화<br>\n",
    "무조건 2개로 차원축소"
   ]
  },
  {
   "cell_type": "code",
   "execution_count": null,
   "metadata": {
    "id": "7YAXxxhezMyl"
   },
   "outputs": [],
   "source": [
    "pca_transformed=pca.fit_transform(iris_df)\n",
    "iris_df['x']=pca_transformed[:,0]\n",
    "iris_df['y']=pca_transformed[:,1]\n",
    "ind0=iris_df[iris_df['cluster']==0].index\n",
    "ind1=iris_df[iris_df['cluster']==1].index\n",
    "plt.scatter(x=iris_df.loc[ind0,'x'],y=iris_df.loc[ind0,'y'])\n",
    "plt.scatter(x=iris_df.loc[ind1,'x'],y=iris_df.loc[ind1,'y'])"
   ]
  },
  {
   "cell_type": "markdown",
   "metadata": {
    "id": "4mhQEW-9NgNU"
   },
   "source": [
    "• Metric<br>\n",
    "silhouette coef<br>\n",
    "각 데이터마다 b-a/max(b,a) / a는 클러스터내 평균거리, b는 최근접 클러스터내 평균거리<br>\n",
    "군집별 silhouette_sample이 관심\n"
   ]
  },
  {
   "cell_type": "code",
   "execution_count": null,
   "metadata": {
    "id": "KRw3ZA4Ik_fv"
   },
   "outputs": [],
   "source": [
    "from sklearn.metrics import silhouette_samples\n",
    "scores=silhouette_samples(feature_df,iris_df['cluster']) #특이하게 feature와 label입력 #모든 데이터의 score저장(1일수록 우수)\n",
    "iris_df['score']=pd.Series(scores,index=iris_df.index)"
   ]
  }
 ],
 "metadata": {
  "colab": {
   "authorship_tag": "ABX9TyOaVQpNeDO5sdgDOexMXyut",
   "collapsed_sections": [],
   "include_colab_link": true,
   "name": "ML_API.ipynb",
   "provenance": [],
   "toc_visible": true
  },
  "kernelspec": {
   "display_name": "Python 3",
   "language": "python",
   "name": "python3"
  },
  "language_info": {
   "codemirror_mode": {
    "name": "ipython",
    "version": 3
   },
   "file_extension": ".py",
   "mimetype": "text/x-python",
   "name": "python",
   "nbconvert_exporter": "python",
   "pygments_lexer": "ipython3",
   "version": "3.8.8"
  }
 },
 "nbformat": 4,
 "nbformat_minor": 1
}
